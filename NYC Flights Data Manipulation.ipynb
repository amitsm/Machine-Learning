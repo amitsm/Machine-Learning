{
 "cells": [
  {
   "cell_type": "markdown",
   "metadata": {
    "ein.tags": "worksheet-0",
    "slideshow": {
     "slide_type": "-"
    }
   },
   "source": [
    "# Problem Set 1 - NYC Flights and Weather Dataset"
   ]
  },
  {
   "cell_type": "markdown",
   "metadata": {
    "ein.tags": "worksheet-0",
    "slideshow": {
     "slide_type": "-"
    }
   },
   "source": [
    "## About the Problem Set: \n",
    "\n",
    "I have used use python and pandas to analyze the nycflights13 data \n",
    "\n",
    "In this problem set you will perform a basic exploratory analysis on\n",
    "an example dataset, bringing to bear all of your new skills in data\n",
    "manipulation and visualization. "
   ]
  },
  {
   "cell_type": "code",
   "execution_count": 3,
   "metadata": {},
   "outputs": [],
   "source": [
    "%config IPCompleter.greedy=True"
   ]
  },
  {
   "cell_type": "code",
   "execution_count": 5,
   "metadata": {
    "autoscroll": false,
    "ein.tags": "worksheet-0",
    "slideshow": {
     "slide_type": "-"
    }
   },
   "outputs": [
    {
     "name": "stdout",
     "output_type": "stream",
     "text": [
      "IPython version:       6.5.0 (need at least 1.0)\n",
      "Numpy version:        1.15.4 (need at least 1.7.1)\n",
      "SciPy version:         1.1.0 (need at least 0.12.0)\n",
      "Pandas version:       0.23.4 (need at least 0.11.0)\n",
      "Mapltolib version:     2.2.3 (need at least 1.2.1)\n",
      "Scikit-Learn version: 0.19.2 (need at least 0.13.1)\n"
     ]
    }
   ],
   "source": [
    "#IPython is what you are using now to run the notebook\n",
    "import IPython\n",
    "print( \"IPython version:      %6.6s (need at least 1.0)\" % IPython.__version__)\n",
    "\n",
    "# Numpy is a library for working with arrays and matrices\n",
    "import numpy as np\n",
    "print( \"Numpy version:        %6.6s (need at least 1.7.1)\" % np.__version__)\n",
    "\n",
    "# SciPy implements many different numerical algorithms\n",
    "import scipy as sp\n",
    "print( \"SciPy version:        %6.6s (need at least 0.12.0)\" % sp.__version__)\n",
    "\n",
    "# Pandas makes working with data tables easier\n",
    "import pandas as pd\n",
    "print( \"Pandas version:       %6.6s (need at least 0.11.0)\" % pd.__version__)\n",
    "\n",
    "# Module for plotting\n",
    "import matplotlib.pyplot as plt  \n",
    "from pylab import *\n",
    "print( \"Mapltolib version:    %6.6s (need at least 1.2.1)\" %\n",
    "       matplotlib.__version__)\n",
    "%matplotlib inline\n",
    "# necessary for in-line graphics\n",
    "\n",
    "# SciKit Learn implements several Machine Learning algorithms\n",
    "import sklearn\n",
    "print( \"Scikit-Learn version: %6.6s (need at least 0.13.1)\" %\n",
    "       sklearn.__version__)\n",
    "import os\n",
    "# for certain system-related functions"
   ]
  },
  {
   "cell_type": "code",
   "execution_count": 107,
   "metadata": {
    "autoscroll": false,
    "ein.tags": "worksheet-0",
    "slideshow": {
     "slide_type": "-"
    }
   },
   "outputs": [
    {
     "name": "stdout",
     "output_type": "stream",
     "text": [
      "C:\\Users\\Amit Manghwani\\Desktop\\IMT 574\\Problem sets\n"
     ]
    }
   ],
   "source": [
    "## Let's read the data and print some summary information\n",
    "## adjust the path for your file system!\n",
    "## you can find the path like this:\n",
    "path = os.getcwd()\n",
    "print(path)\n",
    "flights_df= pd.read_csv(r'C:\\Users\\Amit Manghwani\\Desktop\\IMT 574\\Problem sets/flights.csv.bz2')"
   ]
  },
  {
   "cell_type": "code",
   "execution_count": 108,
   "metadata": {
    "autoscroll": false,
    "ein.tags": "worksheet-0",
    "slideshow": {
     "slide_type": "-"
    }
   },
   "outputs": [
    {
     "name": "stdout",
     "output_type": "stream",
     "text": [
      "(336776, 17)\n",
      "Index(['Unnamed: 0', 'year', 'month', 'day', 'dep_time', 'dep_delay',\n",
      "       'arr_time', 'arr_delay', 'carrier', 'tailnum', 'flight', 'origin',\n",
      "       'dest', 'air_time', 'distance', 'hour', 'minute'],\n",
      "      dtype='object')\n",
      "Unnamed: 0      int64\n",
      "year            int64\n",
      "month           int64\n",
      "day             int64\n",
      "dep_time      float64\n",
      "dep_delay     float64\n",
      "arr_time      float64\n",
      "arr_delay     float64\n",
      "carrier        object\n",
      "tailnum        object\n",
      "flight          int64\n",
      "origin         object\n",
      "dest           object\n",
      "air_time      float64\n",
      "distance        int64\n",
      "hour          float64\n",
      "minute        float64\n",
      "dtype: object\n"
     ]
    }
   ],
   "source": [
    "## Extract some basic information about the data like number of rows,\n",
    "## columns, column names, data types\n",
    "print(flights_df.shape)\n",
    "print(flights_df.columns)\n",
    "print(flights_df.dtypes)\n"
   ]
  },
  {
   "cell_type": "code",
   "execution_count": 110,
   "metadata": {
    "autoscroll": false,
    "ein.tags": "worksheet-0",
    "slideshow": {
     "slide_type": "-"
    }
   },
   "outputs": [
    {
     "name": "stdout",
     "output_type": "stream",
     "text": [
      "head\n",
      "     Unnamed: 0  year  month  day  dep_time  dep_delay  arr_time  arr_delay  \\\n",
      "0            1  2013      1    1     517.0        2.0     830.0       11.0   \n",
      "1            2  2013      1    1     533.0        4.0     850.0       20.0   \n",
      "2            3  2013      1    1     542.0        2.0     923.0       33.0   \n",
      "3            4  2013      1    1     544.0       -1.0    1004.0      -18.0   \n",
      "4            5  2013      1    1     554.0       -6.0     812.0      -25.0   \n",
      "5            6  2013      1    1     554.0       -4.0     740.0       12.0   \n",
      "6            7  2013      1    1     555.0       -5.0     913.0       19.0   \n",
      "7            8  2013      1    1     557.0       -3.0     709.0      -14.0   \n",
      "8            9  2013      1    1     557.0       -3.0     838.0       -8.0   \n",
      "9           10  2013      1    1     558.0       -2.0     753.0        8.0   \n",
      "10          11  2013      1    1     558.0       -2.0     849.0       -2.0   \n",
      "11          12  2013      1    1     558.0       -2.0     853.0       -3.0   \n",
      "12          13  2013      1    1     558.0       -2.0     924.0        7.0   \n",
      "13          14  2013      1    1     558.0       -2.0     923.0      -14.0   \n",
      "14          15  2013      1    1     559.0       -1.0     941.0       31.0   \n",
      "15          16  2013      1    1     559.0        0.0     702.0       -4.0   \n",
      "16          17  2013      1    1     559.0       -1.0     854.0       -8.0   \n",
      "17          18  2013      1    1     600.0        0.0     851.0       -7.0   \n",
      "18          19  2013      1    1     600.0        0.0     837.0       12.0   \n",
      "19          20  2013      1    1     601.0        1.0     844.0       -6.0   \n",
      "\n",
      "   carrier tailnum  flight origin dest  air_time  distance  hour  minute  \n",
      "0       UA  N14228    1545    EWR  IAH     227.0      1400   5.0    17.0  \n",
      "1       UA  N24211    1714    LGA  IAH     227.0      1416   5.0    33.0  \n",
      "2       AA  N619AA    1141    JFK  MIA     160.0      1089   5.0    42.0  \n",
      "3       B6  N804JB     725    JFK  BQN     183.0      1576   5.0    44.0  \n",
      "4       DL  N668DN     461    LGA  ATL     116.0       762   5.0    54.0  \n",
      "5       UA  N39463    1696    EWR  ORD     150.0       719   5.0    54.0  \n",
      "6       B6  N516JB     507    EWR  FLL     158.0      1065   5.0    55.0  \n",
      "7       EV  N829AS    5708    LGA  IAD      53.0       229   5.0    57.0  \n",
      "8       B6  N593JB      79    JFK  MCO     140.0       944   5.0    57.0  \n",
      "9       AA  N3ALAA     301    LGA  ORD     138.0       733   5.0    58.0  \n",
      "10      B6  N793JB      49    JFK  PBI     149.0      1028   5.0    58.0  \n",
      "11      B6  N657JB      71    JFK  TPA     158.0      1005   5.0    58.0  \n",
      "12      UA  N29129     194    JFK  LAX     345.0      2475   5.0    58.0  \n",
      "13      UA  N53441    1124    EWR  SFO     361.0      2565   5.0    58.0  \n",
      "14      AA  N3DUAA     707    LGA  DFW     257.0      1389   5.0    59.0  \n",
      "15      B6  N708JB    1806    JFK  BOS      44.0       187   5.0    59.0  \n",
      "16      UA  N76515    1187    EWR  LAS     337.0      2227   5.0    59.0  \n",
      "17      B6  N595JB     371    LGA  FLL     152.0      1076   6.0     0.0  \n",
      "18      MQ  N542MQ    4650    LGA  ATL     134.0       762   6.0     0.0  \n",
      "19      B6  N644JB     343    EWR  PBI     147.0      1023   6.0     1.0  \n",
      "tail\n",
      "         Unnamed: 0  year  month  day  dep_time  dep_delay  arr_time  \\\n",
      "336771      336772  2013      9   30       NaN        NaN       NaN   \n",
      "336772      336773  2013      9   30       NaN        NaN       NaN   \n",
      "336773      336774  2013      9   30       NaN        NaN       NaN   \n",
      "336774      336775  2013      9   30       NaN        NaN       NaN   \n",
      "336775      336776  2013      9   30       NaN        NaN       NaN   \n",
      "\n",
      "        arr_delay carrier tailnum  flight origin dest  air_time  distance  \\\n",
      "336771        NaN      9E     NaN    3393    JFK  DCA       NaN       213   \n",
      "336772        NaN      9E     NaN    3525    LGA  SYR       NaN       198   \n",
      "336773        NaN      MQ  N535MQ    3461    LGA  BNA       NaN       764   \n",
      "336774        NaN      MQ  N511MQ    3572    LGA  CLE       NaN       419   \n",
      "336775        NaN      MQ  N839MQ    3531    LGA  RDU       NaN       431   \n",
      "\n",
      "        hour  minute  \n",
      "336771   NaN     NaN  \n",
      "336772   NaN     NaN  \n",
      "336773   NaN     NaN  \n",
      "336774   NaN     NaN  \n",
      "336775   NaN     NaN  \n",
      "destinations:\n",
      " ['IAH' 'MIA' 'BQN' 'ATL' 'ORD' 'FLL' 'IAD' 'MCO' 'PBI' 'TPA' 'LAX' 'SFO'\n",
      " 'DFW' 'BOS' 'LAS' 'MSP' 'DTW' 'RSW' 'SJU' 'PHX' 'BWI' 'CLT' 'BUF' 'DEN'\n",
      " 'SNA' 'MSY' 'SLC' 'XNA' 'MKE' 'SEA' 'ROC' 'SYR' 'SRQ' 'RDU' 'CMH' 'JAX'\n",
      " 'CHS' 'MEM' 'PIT' 'SAN' 'DCA' 'CLE' 'STL' 'MYR' 'JAC' 'MDW' 'HNL' 'BNA'\n",
      " 'AUS' 'BTV' 'PHL' 'STT' 'EGE' 'AVL' 'PWM' 'IND' 'SAV' 'CAK' 'HOU' 'LGB'\n",
      " 'DAY' 'ALB' 'BDL' 'MHT' 'MSN' 'GSO' 'CVG' 'BUR' 'RIC' 'GSP' 'GRR' 'MCI'\n",
      " 'ORF' 'SAT' 'SDF' 'PDX' 'SJC' 'OMA' 'CRW' 'OAK' 'SMF' 'TUL' 'TYS' 'OKC'\n",
      " 'PVD' 'DSM' 'PSE' 'BHM' 'CAE' 'HDN' 'BZN' 'MTJ' 'EYW' 'PSP' 'ACK' 'BGR'\n",
      " 'ABQ' 'ILM' 'MVY' 'SBN' 'LEX' 'CHO' 'TVC' 'ANC' 'LGA']\n"
     ]
    }
   ],
   "source": [
    "## print the first and last few lines of the data\n",
    "print(\"head\\n\", flights_df.head(20))\n",
    "print(\"tail\\n\", flights_df.tail())\n",
    "## Find the number of unique destinations in the data ('dest')\n",
    "print(\"destinations:\\n\", flights_df.dest.unique())\n"
   ]
  },
  {
   "cell_type": "markdown",
   "metadata": {
    "ein.tags": "worksheet-0",
    "slideshow": {
     "slide_type": "-"
    }
   },
   "source": [
    "## Some Tips\n",
    "\n",
    "* This assignment involves extensive Data frame splitting and\n",
    "  aggregation. You should look into the details of the methods\n",
    "  groupby, transform, sum, count, mean etc \n",
    "* Many of the tasks in the assignment can be done either through the\n",
    "  Pandas Data Frame or by converting the data frames to Series. Many\n",
    "  of the methods in the numpy are applicable to Series only. When\n",
    "  stuck, try to explore the type of object (Pandas Data Frame or Numpy\n",
    "  Series) you are dealing with. "
   ]
  },
  {
   "cell_type": "markdown",
   "metadata": {
    "ein.tags": "worksheet-0",
    "slideshow": {
     "slide_type": "-"
    }
   },
   "source": [
    "## Question 1\n",
    "\n",
    "Let’s explore flights from NYC to LA. Use the flights dataset to answer the following questions.\n",
    "\n",
    "### (a)\n",
    "\n",
    "\n",
    "How many flights were there from NYC airports to Los Angeles International Airport (LAX) in 2013?"
   ]
  },
  {
   "cell_type": "code",
   "execution_count": 113,
   "metadata": {},
   "outputs": [
    {
     "name": "stdout",
     "output_type": "stream",
     "text": [
      "336776\n"
     ]
    }
   ],
   "source": [
    "flights_df = pd.DataFrame(flights_df)\n",
    "print(len(flights_df))"
   ]
  },
  {
   "cell_type": "code",
   "execution_count": 114,
   "metadata": {},
   "outputs": [
    {
     "name": "stdout",
     "output_type": "stream",
     "text": [
      "EWR    120835\n",
      "JFK    111279\n",
      "LGA    104662\n",
      "Name: origin, dtype: int64\n"
     ]
    }
   ],
   "source": [
    "flights_df.origin\n",
    "#Checking count of the flights from each of the airports in NYC by using the origin column \n",
    "print(flights_df['origin'].value_counts())\n"
   ]
  },
  {
   "cell_type": "code",
   "execution_count": 115,
   "metadata": {},
   "outputs": [
    {
     "data": {
      "text/plain": [
       "2013    336776\n",
       "Name: year, dtype: int64"
      ]
     },
     "execution_count": 115,
     "metadata": {},
     "output_type": "execute_result"
    }
   ],
   "source": [
    "#checking year of the data\n",
    "flights_df['year'].value_counts()"
   ]
  },
  {
   "cell_type": "code",
   "execution_count": 14,
   "metadata": {
    "autoscroll": false,
    "ein.tags": "worksheet-0",
    "slideshow": {
     "slide_type": "-"
    }
   },
   "outputs": [
    {
     "data": {
      "text/plain": [
       "16174"
      ]
     },
     "execution_count": 14,
     "metadata": {},
     "output_type": "execute_result"
    }
   ],
   "source": [
    "# checking flights from JFK, EWR and LGA that depart to LA.\n",
    "nyc_LA = flights_df[(flights_df['origin'].isin(['JFK','LGA','EWR']) & (flights_df['dest']=='LAX'))]\n",
    "len(nyc_LA)\n"
   ]
  },
  {
   "cell_type": "markdown",
   "metadata": {},
   "source": [
    "### Total flights from NYC airports to Los Angeles International Airport (LAX) in 2013 were 16174"
   ]
  },
  {
   "cell_type": "markdown",
   "metadata": {
    "ein.tags": "worksheet-0",
    "slideshow": {
     "slide_type": "-"
    }
   },
   "source": [
    "### (b)\n",
    "\n",
    "Which airline ('carrier') has the most flights from NYC to LAX? Which one has the least number of flights? Report the numbers respectively. "
   ]
  },
  {
   "cell_type": "code",
   "execution_count": 116,
   "metadata": {
    "autoscroll": false,
    "ein.tags": "worksheet-0",
    "slideshow": {
     "slide_type": "-"
    }
   },
   "outputs": [
    {
     "name": "stdout",
     "output_type": "stream",
     "text": [
      "UA    5823\n",
      "AA    3582\n",
      "VX    2580\n",
      "DL    2501\n",
      "B6    1688\n",
      "Name: carrier, dtype: int64\n"
     ]
    }
   ],
   "source": [
    "# Your code here\n",
    "# Check number of flights for each airline\n",
    "print(nyc_LA['carrier'].value_counts())\n"
   ]
  },
  {
   "cell_type": "markdown",
   "metadata": {},
   "source": [
    "### Highest Flights are by UA (United Airlines) 5823\n",
    "### Lowest are by B6 (JetBlue) 1688"
   ]
  },
  {
   "cell_type": "markdown",
   "metadata": {
    "ein.tags": "worksheet-0",
    "slideshow": {
     "slide_type": "-"
    }
   },
   "source": [
    "### (c)\n",
    "\n",
    "How many unique air planes fly from NYC to LAX?\n",
    "(Hint: use 'tailnum', essentially the license plate of airplane)"
   ]
  },
  {
   "cell_type": "code",
   "execution_count": 117,
   "metadata": {
    "autoscroll": false,
    "ein.tags": "worksheet-0",
    "slideshow": {
     "slide_type": "-"
    }
   },
   "outputs": [
    {
     "name": "stdout",
     "output_type": "stream",
     "text": [
      "992\n"
     ]
    }
   ],
   "source": [
    "# Your code here\n",
    "print(len(nyc_LA['tailnum'].unique()))"
   ]
  },
  {
   "cell_type": "markdown",
   "metadata": {},
   "source": [
    "### 992 unique planes fly from NYC to LAX."
   ]
  },
  {
   "cell_type": "markdown",
   "metadata": {
    "ein.tags": "worksheet-0",
    "slideshow": {
     "slide_type": "-"
    }
   },
   "source": [
    "### (d)\n",
    "\n",
    "What is the average arrival delay for flights from NYC to LAX?"
   ]
  },
  {
   "cell_type": "code",
   "execution_count": 118,
   "metadata": {},
   "outputs": [
    {
     "data": {
      "text/html": [
       "<div>\n",
       "<style scoped>\n",
       "    .dataframe tbody tr th:only-of-type {\n",
       "        vertical-align: middle;\n",
       "    }\n",
       "\n",
       "    .dataframe tbody tr th {\n",
       "        vertical-align: top;\n",
       "    }\n",
       "\n",
       "    .dataframe thead th {\n",
       "        text-align: right;\n",
       "    }\n",
       "</style>\n",
       "<table border=\"1\" class=\"dataframe\">\n",
       "  <thead>\n",
       "    <tr style=\"text-align: right;\">\n",
       "      <th></th>\n",
       "      <th>Unnamed: 0</th>\n",
       "      <th>year</th>\n",
       "      <th>month</th>\n",
       "      <th>day</th>\n",
       "      <th>dep_time</th>\n",
       "      <th>dep_delay</th>\n",
       "      <th>arr_time</th>\n",
       "      <th>arr_delay</th>\n",
       "      <th>carrier</th>\n",
       "      <th>tailnum</th>\n",
       "      <th>flight</th>\n",
       "      <th>origin</th>\n",
       "      <th>dest</th>\n",
       "      <th>air_time</th>\n",
       "      <th>distance</th>\n",
       "      <th>hour</th>\n",
       "      <th>minute</th>\n",
       "    </tr>\n",
       "  </thead>\n",
       "  <tbody>\n",
       "    <tr>\n",
       "      <th>12</th>\n",
       "      <td>13</td>\n",
       "      <td>2013</td>\n",
       "      <td>1</td>\n",
       "      <td>1</td>\n",
       "      <td>558.0</td>\n",
       "      <td>-2.0</td>\n",
       "      <td>924.0</td>\n",
       "      <td>7.0</td>\n",
       "      <td>UA</td>\n",
       "      <td>N29129</td>\n",
       "      <td>194</td>\n",
       "      <td>JFK</td>\n",
       "      <td>LAX</td>\n",
       "      <td>345.0</td>\n",
       "      <td>2475</td>\n",
       "      <td>5.0</td>\n",
       "      <td>58.0</td>\n",
       "    </tr>\n",
       "    <tr>\n",
       "      <th>37</th>\n",
       "      <td>38</td>\n",
       "      <td>2013</td>\n",
       "      <td>1</td>\n",
       "      <td>1</td>\n",
       "      <td>628.0</td>\n",
       "      <td>-2.0</td>\n",
       "      <td>1016.0</td>\n",
       "      <td>29.0</td>\n",
       "      <td>UA</td>\n",
       "      <td>N33289</td>\n",
       "      <td>1665</td>\n",
       "      <td>EWR</td>\n",
       "      <td>LAX</td>\n",
       "      <td>366.0</td>\n",
       "      <td>2454</td>\n",
       "      <td>6.0</td>\n",
       "      <td>28.0</td>\n",
       "    </tr>\n",
       "    <tr>\n",
       "      <th>63</th>\n",
       "      <td>64</td>\n",
       "      <td>2013</td>\n",
       "      <td>1</td>\n",
       "      <td>1</td>\n",
       "      <td>658.0</td>\n",
       "      <td>-2.0</td>\n",
       "      <td>1027.0</td>\n",
       "      <td>2.0</td>\n",
       "      <td>VX</td>\n",
       "      <td>N627VA</td>\n",
       "      <td>399</td>\n",
       "      <td>JFK</td>\n",
       "      <td>LAX</td>\n",
       "      <td>361.0</td>\n",
       "      <td>2475</td>\n",
       "      <td>6.0</td>\n",
       "      <td>58.0</td>\n",
       "    </tr>\n",
       "    <tr>\n",
       "      <th>69</th>\n",
       "      <td>70</td>\n",
       "      <td>2013</td>\n",
       "      <td>1</td>\n",
       "      <td>1</td>\n",
       "      <td>702.0</td>\n",
       "      <td>2.0</td>\n",
       "      <td>1058.0</td>\n",
       "      <td>44.0</td>\n",
       "      <td>B6</td>\n",
       "      <td>N779JB</td>\n",
       "      <td>671</td>\n",
       "      <td>JFK</td>\n",
       "      <td>LAX</td>\n",
       "      <td>381.0</td>\n",
       "      <td>2475</td>\n",
       "      <td>7.0</td>\n",
       "      <td>2.0</td>\n",
       "    </tr>\n",
       "    <tr>\n",
       "      <th>91</th>\n",
       "      <td>92</td>\n",
       "      <td>2013</td>\n",
       "      <td>1</td>\n",
       "      <td>1</td>\n",
       "      <td>743.0</td>\n",
       "      <td>13.0</td>\n",
       "      <td>1107.0</td>\n",
       "      <td>7.0</td>\n",
       "      <td>AA</td>\n",
       "      <td>N338AA</td>\n",
       "      <td>33</td>\n",
       "      <td>JFK</td>\n",
       "      <td>LAX</td>\n",
       "      <td>358.0</td>\n",
       "      <td>2475</td>\n",
       "      <td>7.0</td>\n",
       "      <td>43.0</td>\n",
       "    </tr>\n",
       "  </tbody>\n",
       "</table>\n",
       "</div>"
      ],
      "text/plain": [
       "    Unnamed: 0  year  month  day  dep_time  dep_delay  arr_time  arr_delay  \\\n",
       "12          13  2013      1    1     558.0       -2.0     924.0        7.0   \n",
       "37          38  2013      1    1     628.0       -2.0    1016.0       29.0   \n",
       "63          64  2013      1    1     658.0       -2.0    1027.0        2.0   \n",
       "69          70  2013      1    1     702.0        2.0    1058.0       44.0   \n",
       "91          92  2013      1    1     743.0       13.0    1107.0        7.0   \n",
       "\n",
       "   carrier tailnum  flight origin dest  air_time  distance  hour  minute  \n",
       "12      UA  N29129     194    JFK  LAX     345.0      2475   5.0    58.0  \n",
       "37      UA  N33289    1665    EWR  LAX     366.0      2454   6.0    28.0  \n",
       "63      VX  N627VA     399    JFK  LAX     361.0      2475   6.0    58.0  \n",
       "69      B6  N779JB     671    JFK  LAX     381.0      2475   7.0     2.0  \n",
       "91      AA  N338AA      33    JFK  LAX     358.0      2475   7.0    43.0  "
      ]
     },
     "execution_count": 118,
     "metadata": {},
     "output_type": "execute_result"
    }
   ],
   "source": [
    "nyc_LA.head()"
   ]
  },
  {
   "cell_type": "code",
   "execution_count": 119,
   "metadata": {
    "autoscroll": false,
    "ein.tags": "worksheet-0",
    "slideshow": {
     "slide_type": "-"
    }
   },
   "outputs": [
    {
     "name": "stdout",
     "output_type": "stream",
     "text": [
      "0.5471109447148383\n"
     ]
    }
   ],
   "source": [
    "# mean delay of arrivals from NYC to LAX\n",
    "print(nyc_LA['arr_delay'].mean())"
   ]
  },
  {
   "cell_type": "markdown",
   "metadata": {},
   "source": [
    "### Average delay of arrivals from NYC to LAX is 0.547 mins"
   ]
  },
  {
   "cell_type": "markdown",
   "metadata": {
    "ein.tags": "worksheet-0",
    "slideshow": {
     "slide_type": "-"
    }
   },
   "source": [
    "### (e)\n",
    "\n",
    "What proportion of flights to LAX come from each NYC airport?"
   ]
  },
  {
   "cell_type": "code",
   "execution_count": 120,
   "metadata": {},
   "outputs": [
    {
     "data": {
      "text/html": [
       "<div>\n",
       "<style scoped>\n",
       "    .dataframe tbody tr th:only-of-type {\n",
       "        vertical-align: middle;\n",
       "    }\n",
       "\n",
       "    .dataframe tbody tr th {\n",
       "        vertical-align: top;\n",
       "    }\n",
       "\n",
       "    .dataframe thead th {\n",
       "        text-align: right;\n",
       "    }\n",
       "</style>\n",
       "<table border=\"1\" class=\"dataframe\">\n",
       "  <thead>\n",
       "    <tr style=\"text-align: right;\">\n",
       "      <th></th>\n",
       "      <th>Count</th>\n",
       "      <th>Proportion</th>\n",
       "    </tr>\n",
       "    <tr>\n",
       "      <th>origin</th>\n",
       "      <th></th>\n",
       "      <th></th>\n",
       "    </tr>\n",
       "  </thead>\n",
       "  <tbody>\n",
       "    <tr>\n",
       "      <th>EWR</th>\n",
       "      <td>4912</td>\n",
       "      <td>30.369729</td>\n",
       "    </tr>\n",
       "    <tr>\n",
       "      <th>JFK</th>\n",
       "      <td>11262</td>\n",
       "      <td>69.630271</td>\n",
       "    </tr>\n",
       "  </tbody>\n",
       "</table>\n",
       "</div>"
      ],
      "text/plain": [
       "        Count  Proportion\n",
       "origin                   \n",
       "EWR      4912   30.369729\n",
       "JFK     11262   69.630271"
      ]
     },
     "execution_count": 120,
     "metadata": {},
     "output_type": "execute_result"
    }
   ],
   "source": [
    "#assigning a new dataframe with the number of flights grouped byof the nyc_LA dataframe\n",
    "prop = pd.DataFrame(nyc_LA.groupby('origin')['origin'].count())\n",
    "#print(prop)\n",
    "# Renaming column name to count of flights\n",
    "prop.columns = ['Count'] \n",
    "# Sum of flights\n",
    "sum = prop.sum()\n",
    "#sum\n",
    "#using lambda function to find percentage flights divided by the total flights \n",
    "prop['Proportion'] = prop.apply(lambda count: 100*count/float(count.sum())) \n",
    "prop"
   ]
  },
  {
   "cell_type": "markdown",
   "metadata": {
    "autoscroll": false,
    "ein.tags": "worksheet-0",
    "slideshow": {
     "slide_type": "-"
    }
   },
   "source": [
    "### There are no flights to LA from LGA airport.\n",
    "### 30.36% flights come from EWR and 69.63% come from JFK \n"
   ]
  },
  {
   "cell_type": "code",
   "execution_count": 121,
   "metadata": {},
   "outputs": [],
   "source": [
    "#code adapted from https://stackoverflow.com/questions/23377108/pandas-percentage-of-total-with-groupby"
   ]
  },
  {
   "cell_type": "markdown",
   "metadata": {
    "ein.tags": "worksheet-0",
    "slideshow": {
     "slide_type": "-"
    }
   },
   "source": [
    "## Question 2\n",
    "\n",
    "Now let's explore the entire NYC flight dataset. Flights are often delayed. Consider the following questions exploring delay patterns.\n",
    "\n",
    "### (a)\n",
    "\n",
    "Which date has the largest average departure delay? Which date has the largest average arrival delay?"
   ]
  },
  {
   "cell_type": "code",
   "execution_count": 122,
   "metadata": {
    "autoscroll": false,
    "ein.tags": "worksheet-0",
    "slideshow": {
     "slide_type": "-"
    }
   },
   "outputs": [
    {
     "name": "stdout",
     "output_type": "stream",
     "text": [
      "date\n",
      "2013-3-8    83.536921\n",
      "Name: dep_delay, dtype: float64\n"
     ]
    }
   ],
   "source": [
    "#We need to group by date and then find the respective average delays. \n",
    "#For that, we will combine 3 columns :year,month and day to a single 'date' column\n",
    "\n",
    "flights_df['date'] = flights_df['year'].astype(str) + \"-\" + flights_df['month'].astype(str) + \"-\" + flights_df['day'].astype(str)\n",
    "\n",
    "#finding avg dep delay by mean\n",
    "avg_dep_delay_by_date = pd.DataFrame(flights_df.groupby('date').dep_delay.mean())\n",
    "avg_dep_delay_by_date\n",
    "#sorting to descending order to find the largest delay\n",
    "\n",
    "largest_dep_delay=avg_dep_delay_by_date.sort_values(['dep_delay'], ascending = False, na_position='last')['dep_delay'].head(1)\n",
    "print(largest_dep_delay)\n"
   ]
  },
  {
   "cell_type": "markdown",
   "metadata": {},
   "source": [
    "### Largest average departure delay is  83.53 mins on 8th of March."
   ]
  },
  {
   "cell_type": "code",
   "execution_count": 123,
   "metadata": {
    "scrolled": true
   },
   "outputs": [
    {
     "name": "stdout",
     "output_type": "stream",
     "text": [
      "date\n",
      "2013-3-8    85.862155\n",
      "Name: arr_delay, dtype: float64\n"
     ]
    }
   ],
   "source": [
    "#Similarly finding avg arr delay by mean\n",
    "avg_arr_delay_by_date = pd.DataFrame(flights_df.groupby('date').arr_delay.mean())\n",
    "#sorting to descending order to find the largest delay\n",
    "\n",
    "largest_arr_delay=avg_arr_delay_by_date.sort_values(['arr_delay'], ascending = False, na_position='last')['arr_delay'].head(1)\n",
    "print(largest_arr_delay)"
   ]
  },
  {
   "cell_type": "markdown",
   "metadata": {},
   "source": [
    "### Largest average arrival delay is 85.86 mins on 8th of March."
   ]
  },
  {
   "cell_type": "markdown",
   "metadata": {
    "ein.tags": "worksheet-0",
    "slideshow": {
     "slide_type": "-"
    }
   },
   "source": [
    "### (b)\n",
    "\n",
    "What was the worst day and the best day to fly out of NYC in 2013\n",
    "if you dislike delayed flights?\n",
    "\n",
    "Note: we ask the largest delay given there was a (positive) delay, we\n",
    "don't care about flights that were in time or early."
   ]
  },
  {
   "cell_type": "markdown",
   "metadata": {},
   "source": [
    "### As a traveller, the worst or best day would depend on the probability of my flight departing late on a given day\n",
    "### We need to find out the highest percentage of flights departing late on a given day.\n",
    "### My assumption is I dislike only late arriving flights. Late Departure doesn't always means that the flight is late."
   ]
  },
  {
   "cell_type": "code",
   "execution_count": 141,
   "metadata": {
    "autoscroll": false,
    "ein.tags": "worksheet-0",
    "scrolled": true,
    "slideshow": {
     "slide_type": "-"
    }
   },
   "outputs": [
    {
     "data": {
      "text/plain": [
       "date\n",
       "2013-7-10    110.093439\n",
       "Name: arr_delay, dtype: float64"
      ]
     },
     "execution_count": 141,
     "metadata": {},
     "output_type": "execute_result"
    }
   ],
   "source": [
    "# Finding positive arrival delays\n",
    "pos_arr_delay = flights_df[flights_df['arr_delay']>0]\n",
    "pos_arr_delay.head(10)\n",
    "#finding largest avg arrival delay on a given day\n",
    "#pos_arr_delay.sort_values(['arr_delay'], ascending = False)['arr_delay'].head(10)\n",
    "pos_avg_arr_delay_by_date = pd.DataFrame(pos_arr_delay.groupby('date').arr_delay.mean())\n",
    "pos_avg_arr_delay_by_date\n",
    "\n",
    "pos_avg_arr_delay_by_date.sort_values(['arr_delay'], ascending = False)['arr_delay'].head(1)\n",
    "\n"
   ]
  },
  {
   "cell_type": "markdown",
   "metadata": {},
   "source": [
    "### Highest avg positive arrival delay is on 10th July. I have assumed only positive arrival delays and its count.  "
   ]
  },
  {
   "cell_type": "code",
   "execution_count": 140,
   "metadata": {},
   "outputs": [
    {
     "data": {
      "text/html": [
       "<div>\n",
       "<style scoped>\n",
       "    .dataframe tbody tr th:only-of-type {\n",
       "        vertical-align: middle;\n",
       "    }\n",
       "\n",
       "    .dataframe tbody tr th {\n",
       "        vertical-align: top;\n",
       "    }\n",
       "\n",
       "    .dataframe thead th {\n",
       "        text-align: right;\n",
       "    }\n",
       "</style>\n",
       "<table border=\"1\" class=\"dataframe\">\n",
       "  <thead>\n",
       "    <tr style=\"text-align: right;\">\n",
       "      <th></th>\n",
       "      <th>arr_delay</th>\n",
       "    </tr>\n",
       "    <tr>\n",
       "      <th>date</th>\n",
       "      <th></th>\n",
       "    </tr>\n",
       "  </thead>\n",
       "  <tbody>\n",
       "    <tr>\n",
       "      <th>2013-9-7</th>\n",
       "      <td>-20.349854</td>\n",
       "    </tr>\n",
       "  </tbody>\n",
       "</table>\n",
       "</div>"
      ],
      "text/plain": [
       "          arr_delay\n",
       "date               \n",
       "2013-9-7 -20.349854"
      ]
     },
     "execution_count": 140,
     "metadata": {},
     "output_type": "execute_result"
    }
   ],
   "source": [
    "# Finding negative delays for best day\n",
    "#least_arr_delay = flights_df[flights_df['arr_delay']<0]\n",
    "#finding largest avg arrival delay on a given day\n",
    "#least_arr_delay.sort_values(['arr_delay'], ascending = True)['arr_delay'].head(1)\n",
    "#lowest_avg_arr_delay_by_date = pd.DataFrame(least_arr_delay.groupby('date').arr_delay.mean())\n",
    "#pos_avg_arr_delay_by_date\n",
    "#lowest_avg_arr_delay_by_date.sort_values(['arr_delay'], ascending = True)['arr_delay'].head(10)\n",
    "\n",
    "\n",
    "least_arr_delay = pd.DataFrame(flights_df.groupby('date').arr_delay.mean())\n",
    "least_arr_delay.sort_values(['arr_delay'], ascending = True).head(1)"
   ]
  },
  {
   "cell_type": "markdown",
   "metadata": {},
   "source": [
    "### 7th September has the least average arrival delay which implies that the flights are landing around 20.35 mins early. Based on that we can say it is the best day to fly.\n"
   ]
  },
  {
   "cell_type": "markdown",
   "metadata": {
    "ein.tags": "worksheet-0",
    "slideshow": {
     "slide_type": "-"
    }
   },
   "source": [
    "### (c)\n",
    "\n",
    "On average which airline has the lowest departure delay for\n",
    "   their NYC flights in 2013 in this dataset? and which one has the\n",
    "   greatest departure delay?\n",
    "\n",
    "Note: here we want to include both positive and negative delays (early departures)   "
   ]
  },
  {
   "cell_type": "code",
   "execution_count": 142,
   "metadata": {
    "autoscroll": false,
    "ein.tags": "worksheet-0",
    "slideshow": {
     "slide_type": "-"
    }
   },
   "outputs": [
    {
     "name": "stdout",
     "output_type": "stream",
     "text": [
      "carrier\n",
      "F9    20.215543\n",
      "Name: dep_delay, dtype: float64\n",
      "carrier\n",
      "US    3.782418\n",
      "Name: dep_delay, dtype: float64\n"
     ]
    }
   ],
   "source": [
    "flights_df.head()\n",
    "mean_dep_delay_airline = pd.DataFrame(flights_df.groupby('carrier').mean()['dep_delay'])\n",
    "#print(mean_dep_delay)\n",
    "print(mean_dep_delay_airline.sort_values(['dep_delay'], ascending = False, na_position='last')['dep_delay'].head(1))\n",
    "\n",
    "print(mean_dep_delay_airline.sort_values(['dep_delay'], ascending = False, na_position='last')['dep_delay'].tail(1))\n",
    "\n",
    "#count_airline= pd.DataFrame(flights_df.groupby('carrier').count())\n",
    "#print(count_airline)\n",
    "#print(flights_df['carrier'].value_counts())\n"
   ]
  },
  {
   "cell_type": "markdown",
   "metadata": {},
   "source": [
    "### F9 has the highest departure delay 20.21 mins and US has the lowest delay. "
   ]
  },
  {
   "cell_type": "markdown",
   "metadata": {
    "ein.tags": "worksheet-0",
    "slideshow": {
     "slide_type": "-"
    }
   },
   "source": [
    "### (d)\n",
    "\n",
    "Are there any seasonal patterns in departure delays for flights from NYC?"
   ]
  },
  {
   "cell_type": "markdown",
   "metadata": {},
   "source": [
    "### My approach is find if there are any monthly patterns for the average postive departure delays.\n",
    "### Also, it would be interesting to see the count of the flights with positive departure delays."
   ]
  },
  {
   "cell_type": "code",
   "execution_count": 52,
   "metadata": {
    "autoscroll": false,
    "ein.tags": "worksheet-0",
    "slideshow": {
     "slide_type": "-"
    }
   },
   "outputs": [
    {
     "data": {
      "text/plain": [
       "Text(0.5,1,'Average Departure Delay by Month (in mins)')"
      ]
     },
     "execution_count": 52,
     "metadata": {},
     "output_type": "execute_result"
    },
    {
     "data": {
      "image/png": "[encoded data removed]",
      "text/plain": [
       "<Figure size 432x288 with 1 Axes>"
      ]
     },
     "metadata": {},
     "output_type": "display_data"
    }
   ],
   "source": [
    "# Seasonal Patterns by Month (Positive Departure delay in mins)\n",
    "\n",
    "#new df for positive departure delays\n",
    "pos_dep_delay = flights_df[flights_df['dep_delay']>0]\n",
    "#pos_dep_delay.head()\n",
    "plt.style.use('ggplot')\n",
    "plt.plot(pos_dep_delay.groupby('month')['dep_delay'].mean(), color=\"green\")\n",
    "plt.xlabel('Months')\n",
    "plt.ylabel('Average Departure delay (in mins)')\n",
    "plt.title('Average Departure Delay by Month (in mins)')\n",
    "#plt.show()"
   ]
  },
  {
   "cell_type": "code",
   "execution_count": 47,
   "metadata": {},
   "outputs": [
    {
     "data": {
      "text/plain": [
       "Text(0.5,1,'Count of Delayed Flights by Month')"
      ]
     },
     "execution_count": 47,
     "metadata": {},
     "output_type": "execute_result"
    },
    {
     "data": {
      "image/png": "[encoded data removed]",
      "text/plain": [
       "<Figure size 432x288 with 1 Axes>"
      ]
     },
     "metadata": {},
     "output_type": "display_data"
    }
   ],
   "source": [
    "#Seasonal Patterns by Count of the positive delays of flights \n",
    "plt.plot(pos_dep_delay.groupby('month')['dep_delay'].count(), color=\"blue\")\n",
    "plt.xlabel('Months')\n",
    "plt.ylabel('Count of Delayed Flights')\n",
    "plt.title('Count of Delayed Flights by Month')\n",
    "#plt.show()"
   ]
  },
  {
   "cell_type": "markdown",
   "metadata": {},
   "source": [
    "### Both the graphs have similar monthly patterns. As the count of flights increase, the delay increases as well."
   ]
  },
  {
   "cell_type": "markdown",
   "metadata": {
    "ein.tags": "worksheet-0",
    "slideshow": {
     "slide_type": "-"
    }
   },
   "source": [
    "### (e)\n",
    "\n",
    "On average, how do departure delays vary over the course of a day?"
   ]
  },
  {
   "cell_type": "markdown",
   "metadata": {},
   "source": [
    "### Approach is to group by hour and find the mean and count of delays by hour of the day.\n",
    "### I have assumed all departure delays just to check if flights are early at ny time of the day."
   ]
  },
  {
   "cell_type": "code",
   "execution_count": 57,
   "metadata": {
    "autoscroll": false,
    "ein.tags": "worksheet-0",
    "slideshow": {
     "slide_type": "-"
    }
   },
   "outputs": [
    {
     "data": {
      "image/png": "[encoded data removed]",
      "text/plain": [
       "<Figure size 432x288 with 1 Axes>"
      ]
     },
     "metadata": {},
     "output_type": "display_data"
    }
   ],
   "source": [
    "#Departure Delay grouped by hour of the day\n",
    "dep_delay_hour = pd.DataFrame(flights_df.groupby('hour').mean()['dep_delay'])\n",
    "\n",
    "fig, ax = plt.subplots()\n",
    "plt.bar(range(25), dep_delay_hour.dep_delay)\n",
    "plt.xlabel('Hour of the Day')\n",
    "plt.ylabel('Average Departure Delay')\n",
    "plt.title('Average Departure Delay by Hour of the Day')\n",
    "plt.show()"
   ]
  },
  {
   "cell_type": "code",
   "execution_count": 56,
   "metadata": {},
   "outputs": [
    {
     "data": {
      "image/png": "[encoded data removed]",
      "text/plain": [
       "<Figure size 432x288 with 1 Axes>"
      ]
     },
     "metadata": {},
     "output_type": "display_data"
    }
   ],
   "source": [
    "dep_delay_hour_count = pd.DataFrame(flights_df.groupby('hour').count()['dep_delay'])\n",
    "#Count of Flights grouped by hour of the day \n",
    "fig, ax = plt.subplots()\n",
    "plt.bar(range(25), dep_delay_hour_count.dep_delay)\n",
    "plt.xlabel('Hour of the Day')\n",
    "plt.ylabel('Count of flights')\n",
    "plt.title('Count of flights by Hour of the Day')\n",
    "plt.show()\n"
   ]
  },
  {
   "cell_type": "markdown",
   "metadata": {},
   "source": [
    "### It is interesting to see that average departure delay for the early morning flights (12am to 4am) is high.\n",
    "### The count of flights is low from 12-4am. So may be the delay is caused by other factors related to weather or visibility.\n",
    "### And there is zero or a negative delay from 4am to 8am even though the count of the flights is high during those hours. "
   ]
  },
  {
   "cell_type": "markdown",
   "metadata": {
    "ein.tags": "worksheet-0",
    "slideshow": {
     "slide_type": "-"
    }
   },
   "source": [
    "## Question 3\n",
    "\n",
    "Which flight departing NYC in 2013 flew the fastest?\n",
    "\n",
    "Note: compute the speed as distance/time."
   ]
  },
  {
   "cell_type": "code",
   "execution_count": 242,
   "metadata": {
    "autoscroll": false,
    "ein.tags": "worksheet-0",
    "slideshow": {
     "slide_type": "-"
    }
   },
   "outputs": [
    {
     "data": {
      "text/html": [
       "<div>\n",
       "<style scoped>\n",
       "    .dataframe tbody tr th:only-of-type {\n",
       "        vertical-align: middle;\n",
       "    }\n",
       "\n",
       "    .dataframe tbody tr th {\n",
       "        vertical-align: top;\n",
       "    }\n",
       "\n",
       "    .dataframe thead th {\n",
       "        text-align: right;\n",
       "    }\n",
       "</style>\n",
       "<table border=\"1\" class=\"dataframe\">\n",
       "  <thead>\n",
       "    <tr style=\"text-align: right;\">\n",
       "      <th></th>\n",
       "      <th>Unnamed: 0</th>\n",
       "      <th>year</th>\n",
       "      <th>month</th>\n",
       "      <th>day</th>\n",
       "      <th>dep_time</th>\n",
       "      <th>dep_delay</th>\n",
       "      <th>arr_time</th>\n",
       "      <th>arr_delay</th>\n",
       "      <th>carrier</th>\n",
       "      <th>tailnum</th>\n",
       "      <th>flight</th>\n",
       "      <th>origin</th>\n",
       "      <th>dest</th>\n",
       "      <th>air_time</th>\n",
       "      <th>distance</th>\n",
       "      <th>hour</th>\n",
       "      <th>minute</th>\n",
       "      <th>date</th>\n",
       "      <th>speed_in_mph</th>\n",
       "    </tr>\n",
       "  </thead>\n",
       "  <tbody>\n",
       "    <tr>\n",
       "      <th>216447</th>\n",
       "      <td>216448</td>\n",
       "      <td>2013</td>\n",
       "      <td>5</td>\n",
       "      <td>25</td>\n",
       "      <td>1709.0</td>\n",
       "      <td>9.0</td>\n",
       "      <td>1923.0</td>\n",
       "      <td>-14.0</td>\n",
       "      <td>DL</td>\n",
       "      <td>N666DN</td>\n",
       "      <td>1499</td>\n",
       "      <td>LGA</td>\n",
       "      <td>ATL</td>\n",
       "      <td>65.0</td>\n",
       "      <td>762</td>\n",
       "      <td>17.0</td>\n",
       "      <td>9.0</td>\n",
       "      <td>2013-5-25</td>\n",
       "      <td>703.384615</td>\n",
       "    </tr>\n",
       "  </tbody>\n",
       "</table>\n",
       "</div>"
      ],
      "text/plain": [
       "        Unnamed: 0  year  month  day  dep_time  dep_delay  arr_time  \\\n",
       "216447      216448  2013      5   25    1709.0        9.0    1923.0   \n",
       "\n",
       "        arr_delay carrier tailnum  flight origin dest  air_time  distance  \\\n",
       "216447      -14.0      DL  N666DN    1499    LGA  ATL      65.0       762   \n",
       "\n",
       "        hour  minute       date  speed_in_mph  \n",
       "216447  17.0     9.0  2013-5-25    703.384615  "
      ]
     },
     "execution_count": 242,
     "metadata": {},
     "output_type": "execute_result"
    }
   ],
   "source": [
    "# Speed is equal to \n",
    "flights_df.head()\n",
    "flights_df['speed_in_mph'] = flights_df.distance/(flights_df.air_time/60)\n",
    "flights_df.sort_values('speed_in_mph',ascending = False).head(1)"
   ]
  },
  {
   "cell_type": "markdown",
   "metadata": {},
   "source": [
    "### Flight number 1499 Delta airlines from LGA to ATL flew the fastest on 25th May. The avg speed was 703.38 miles per hour."
   ]
  },
  {
   "cell_type": "markdown",
   "metadata": {
    "ein.tags": "worksheet-0",
    "slideshow": {
     "slide_type": "-"
    }
   },
   "source": [
    "## Question 4\n",
    "\n",
    "Which flights (i.e. carrier + flight + dest) happen every day? Where do they fly to?"
   ]
  },
  {
   "cell_type": "markdown",
   "metadata": {},
   "source": [
    "### Here, the approach would be to concatenate all 3 columns into one single column \"flight_details\" to display the results"
   ]
  },
  {
   "cell_type": "code",
   "execution_count": 59,
   "metadata": {
    "autoscroll": false,
    "ein.tags": "worksheet-0",
    "slideshow": {
     "slide_type": "-"
    }
   },
   "outputs": [
    {
     "data": {
      "text/html": [
       "<div>\n",
       "<style scoped>\n",
       "    .dataframe tbody tr th:only-of-type {\n",
       "        vertical-align: middle;\n",
       "    }\n",
       "\n",
       "    .dataframe tbody tr th {\n",
       "        vertical-align: top;\n",
       "    }\n",
       "\n",
       "    .dataframe thead th {\n",
       "        text-align: right;\n",
       "    }\n",
       "</style>\n",
       "<table border=\"1\" class=\"dataframe\">\n",
       "  <thead>\n",
       "    <tr style=\"text-align: right;\">\n",
       "      <th></th>\n",
       "      <th></th>\n",
       "      <th></th>\n",
       "      <th></th>\n",
       "      <th>flight</th>\n",
       "    </tr>\n",
       "    <tr>\n",
       "      <th>flight_details</th>\n",
       "      <th>carrier</th>\n",
       "      <th>flight</th>\n",
       "      <th>dest</th>\n",
       "      <th></th>\n",
       "    </tr>\n",
       "  </thead>\n",
       "  <tbody>\n",
       "    <tr>\n",
       "      <th>AA 119 LAX</th>\n",
       "      <th>AA</th>\n",
       "      <th>119</th>\n",
       "      <th>LAX</th>\n",
       "      <td>365</td>\n",
       "    </tr>\n",
       "    <tr>\n",
       "      <th>AA 1357 SJU</th>\n",
       "      <th>AA</th>\n",
       "      <th>1357</th>\n",
       "      <th>SJU</th>\n",
       "      <td>365</td>\n",
       "    </tr>\n",
       "    <tr>\n",
       "      <th>AA 1611 MIA</th>\n",
       "      <th>AA</th>\n",
       "      <th>1611</th>\n",
       "      <th>MIA</th>\n",
       "      <td>365</td>\n",
       "    </tr>\n",
       "    <tr>\n",
       "      <th>AA 181 LAX</th>\n",
       "      <th>AA</th>\n",
       "      <th>181</th>\n",
       "      <th>LAX</th>\n",
       "      <td>365</td>\n",
       "    </tr>\n",
       "    <tr>\n",
       "      <th>AA 59 SFO</th>\n",
       "      <th>AA</th>\n",
       "      <th>59</th>\n",
       "      <th>SFO</th>\n",
       "      <td>365</td>\n",
       "    </tr>\n",
       "    <tr>\n",
       "      <th>B6 1783 MCO</th>\n",
       "      <th>B6</th>\n",
       "      <th>1783</th>\n",
       "      <th>MCO</th>\n",
       "      <td>365</td>\n",
       "    </tr>\n",
       "    <tr>\n",
       "      <th>B6 219 CLT</th>\n",
       "      <th>B6</th>\n",
       "      <th>219</th>\n",
       "      <th>CLT</th>\n",
       "      <td>365</td>\n",
       "    </tr>\n",
       "    <tr>\n",
       "      <th>B6 359 BUR</th>\n",
       "      <th>B6</th>\n",
       "      <th>359</th>\n",
       "      <th>BUR</th>\n",
       "      <td>365</td>\n",
       "    </tr>\n",
       "    <tr>\n",
       "      <th>B6 371 FLL</th>\n",
       "      <th>B6</th>\n",
       "      <th>371</th>\n",
       "      <th>FLL</th>\n",
       "      <td>365</td>\n",
       "    </tr>\n",
       "    <tr>\n",
       "      <th>B6 431 SRQ</th>\n",
       "      <th>B6</th>\n",
       "      <th>431</th>\n",
       "      <th>SRQ</th>\n",
       "      <td>365</td>\n",
       "    </tr>\n",
       "    <tr>\n",
       "      <th>B6 703 SJU</th>\n",
       "      <th>B6</th>\n",
       "      <th>703</th>\n",
       "      <th>SJU</th>\n",
       "      <td>365</td>\n",
       "    </tr>\n",
       "    <tr>\n",
       "      <th>DL 2159 MCO</th>\n",
       "      <th>DL</th>\n",
       "      <th>2159</th>\n",
       "      <th>MCO</th>\n",
       "      <td>365</td>\n",
       "    </tr>\n",
       "    <tr>\n",
       "      <th>DL 2391 TPA</th>\n",
       "      <th>DL</th>\n",
       "      <th>2391</th>\n",
       "      <th>TPA</th>\n",
       "      <td>365</td>\n",
       "    </tr>\n",
       "    <tr>\n",
       "      <th>EV 5712 IAD</th>\n",
       "      <th>EV</th>\n",
       "      <th>5712</th>\n",
       "      <th>IAD</th>\n",
       "      <td>365</td>\n",
       "    </tr>\n",
       "    <tr>\n",
       "      <th>UA 15 HNL</th>\n",
       "      <th>UA</th>\n",
       "      <th>15</th>\n",
       "      <th>HNL</th>\n",
       "      <td>365</td>\n",
       "    </tr>\n",
       "    <tr>\n",
       "      <th>VX 251 LAS</th>\n",
       "      <th>VX</th>\n",
       "      <th>251</th>\n",
       "      <th>LAS</th>\n",
       "      <td>365</td>\n",
       "    </tr>\n",
       "    <tr>\n",
       "      <th>VX 407 LAX</th>\n",
       "      <th>VX</th>\n",
       "      <th>407</th>\n",
       "      <th>LAX</th>\n",
       "      <td>365</td>\n",
       "    </tr>\n",
       "    <tr>\n",
       "      <th>VX 413 LAX</th>\n",
       "      <th>VX</th>\n",
       "      <th>413</th>\n",
       "      <th>LAX</th>\n",
       "      <td>365</td>\n",
       "    </tr>\n",
       "  </tbody>\n",
       "</table>\n",
       "</div>"
      ],
      "text/plain": [
       "                                    flight\n",
       "flight_details carrier flight dest        \n",
       "AA 119 LAX     AA      119    LAX      365\n",
       "AA 1357 SJU    AA      1357   SJU      365\n",
       "AA 1611 MIA    AA      1611   MIA      365\n",
       "AA 181 LAX     AA      181    LAX      365\n",
       "AA 59 SFO      AA      59     SFO      365\n",
       "B6 1783 MCO    B6      1783   MCO      365\n",
       "B6 219 CLT     B6      219    CLT      365\n",
       "B6 359 BUR     B6      359    BUR      365\n",
       "B6 371 FLL     B6      371    FLL      365\n",
       "B6 431 SRQ     B6      431    SRQ      365\n",
       "B6 703 SJU     B6      703    SJU      365\n",
       "DL 2159 MCO    DL      2159   MCO      365\n",
       "DL 2391 TPA    DL      2391   TPA      365\n",
       "EV 5712 IAD    EV      5712   IAD      365\n",
       "UA 15 HNL      UA      15     HNL      365\n",
       "VX 251 LAS     VX      251    LAS      365\n",
       "VX 407 LAX     VX      407    LAX      365\n",
       "VX 413 LAX     VX      413    LAX      365"
      ]
     },
     "execution_count": 59,
     "metadata": {},
     "output_type": "execute_result"
    }
   ],
   "source": [
    "# \n",
    "flights_df['flight_details'] = flights_df['carrier'].astype(str) + ' ' + flights_df['flight'].astype(str) + ' ' + flights_df['dest'].astype(str)\n",
    "flights_df.head()\n",
    "\n",
    "flights_details_by_count= pd.DataFrame(flights_df.groupby(['flight_details','carrier','flight','dest']).flight.count())\n",
    "flights_details_by_count.head()\n",
    "flights_details_by_count[flights_details_by_count['flight']==365]\n",
    "#Finding all the flights that flew on all the days\n",
    "#fl_rep[fl_rep['flight'] == 365]\n"
   ]
  },
  {
   "cell_type": "markdown",
   "metadata": {},
   "source": [
    "### The above mentioned list of flights fly throughout the year to the given destinations. "
   ]
  },
  {
   "cell_type": "markdown",
   "metadata": {
    "ein.tags": "worksheet-0",
    "slideshow": {
     "slide_type": "-"
    }
   },
   "source": [
    "## Question 5\n",
    "\n",
    "Develop one research question you can address using the nycflights2013\n",
    "dataset. Provide two visualizations to support your exploration of\n",
    "this question. Discuss what you find. \n",
    "\n",
    "Note: we'll using matplotlib for plotting in this course, but you can use something else too."
   ]
  },
  {
   "cell_type": "markdown",
   "metadata": {},
   "source": [
    "### What are the top 3 carriers should be considered for a frequent flyer club if you dislike any kind of delays? \n",
    "### The approach would be to find out the departure, arrival and total delays by carrier."
   ]
  },
  {
   "cell_type": "code",
   "execution_count": 76,
   "metadata": {
    "autoscroll": false,
    "ein.tags": "worksheet-0",
    "slideshow": {
     "slide_type": "-"
    }
   },
   "outputs": [
    {
     "data": {
      "text/html": [
       "<div>\n",
       "<style scoped>\n",
       "    .dataframe tbody tr th:only-of-type {\n",
       "        vertical-align: middle;\n",
       "    }\n",
       "\n",
       "    .dataframe tbody tr th {\n",
       "        vertical-align: top;\n",
       "    }\n",
       "\n",
       "    .dataframe thead th {\n",
       "        text-align: right;\n",
       "    }\n",
       "</style>\n",
       "<table border=\"1\" class=\"dataframe\">\n",
       "  <thead>\n",
       "    <tr style=\"text-align: right;\">\n",
       "      <th></th>\n",
       "      <th>carrier</th>\n",
       "      <th>dep_delay</th>\n",
       "      <th>arr_delay</th>\n",
       "      <th>tot_delay</th>\n",
       "    </tr>\n",
       "  </thead>\n",
       "  <tbody>\n",
       "    <tr>\n",
       "      <th>0</th>\n",
       "      <td>9E</td>\n",
       "      <td>16.725769</td>\n",
       "      <td>7.379669</td>\n",
       "      <td>24.105439</td>\n",
       "    </tr>\n",
       "    <tr>\n",
       "      <th>1</th>\n",
       "      <td>AA</td>\n",
       "      <td>8.586016</td>\n",
       "      <td>0.364291</td>\n",
       "      <td>8.950306</td>\n",
       "    </tr>\n",
       "    <tr>\n",
       "      <th>2</th>\n",
       "      <td>AS</td>\n",
       "      <td>5.804775</td>\n",
       "      <td>-9.930889</td>\n",
       "      <td>-4.126113</td>\n",
       "    </tr>\n",
       "    <tr>\n",
       "      <th>3</th>\n",
       "      <td>B6</td>\n",
       "      <td>13.022522</td>\n",
       "      <td>9.457973</td>\n",
       "      <td>22.480495</td>\n",
       "    </tr>\n",
       "    <tr>\n",
       "      <th>4</th>\n",
       "      <td>DL</td>\n",
       "      <td>9.264505</td>\n",
       "      <td>1.644341</td>\n",
       "      <td>10.908845</td>\n",
       "    </tr>\n",
       "    <tr>\n",
       "      <th>5</th>\n",
       "      <td>EV</td>\n",
       "      <td>19.955390</td>\n",
       "      <td>15.796431</td>\n",
       "      <td>35.751821</td>\n",
       "    </tr>\n",
       "    <tr>\n",
       "      <th>6</th>\n",
       "      <td>F9</td>\n",
       "      <td>20.215543</td>\n",
       "      <td>21.920705</td>\n",
       "      <td>42.136247</td>\n",
       "    </tr>\n",
       "    <tr>\n",
       "      <th>7</th>\n",
       "      <td>FL</td>\n",
       "      <td>18.726075</td>\n",
       "      <td>20.115906</td>\n",
       "      <td>38.841980</td>\n",
       "    </tr>\n",
       "    <tr>\n",
       "      <th>8</th>\n",
       "      <td>HA</td>\n",
       "      <td>4.900585</td>\n",
       "      <td>-6.915205</td>\n",
       "      <td>-2.014620</td>\n",
       "    </tr>\n",
       "    <tr>\n",
       "      <th>9</th>\n",
       "      <td>MQ</td>\n",
       "      <td>10.552041</td>\n",
       "      <td>10.774733</td>\n",
       "      <td>21.326774</td>\n",
       "    </tr>\n",
       "    <tr>\n",
       "      <th>10</th>\n",
       "      <td>OO</td>\n",
       "      <td>12.586207</td>\n",
       "      <td>11.931034</td>\n",
       "      <td>24.517241</td>\n",
       "    </tr>\n",
       "    <tr>\n",
       "      <th>11</th>\n",
       "      <td>UA</td>\n",
       "      <td>12.106073</td>\n",
       "      <td>3.558011</td>\n",
       "      <td>15.664084</td>\n",
       "    </tr>\n",
       "    <tr>\n",
       "      <th>12</th>\n",
       "      <td>US</td>\n",
       "      <td>3.782418</td>\n",
       "      <td>2.129595</td>\n",
       "      <td>5.912013</td>\n",
       "    </tr>\n",
       "    <tr>\n",
       "      <th>13</th>\n",
       "      <td>VX</td>\n",
       "      <td>12.869421</td>\n",
       "      <td>1.764464</td>\n",
       "      <td>14.633886</td>\n",
       "    </tr>\n",
       "    <tr>\n",
       "      <th>14</th>\n",
       "      <td>WN</td>\n",
       "      <td>17.711744</td>\n",
       "      <td>9.649120</td>\n",
       "      <td>27.360864</td>\n",
       "    </tr>\n",
       "    <tr>\n",
       "      <th>15</th>\n",
       "      <td>YV</td>\n",
       "      <td>18.996330</td>\n",
       "      <td>15.556985</td>\n",
       "      <td>34.553316</td>\n",
       "    </tr>\n",
       "  </tbody>\n",
       "</table>\n",
       "</div>"
      ],
      "text/plain": [
       "   carrier  dep_delay  arr_delay  tot_delay\n",
       "0       9E  16.725769   7.379669  24.105439\n",
       "1       AA   8.586016   0.364291   8.950306\n",
       "2       AS   5.804775  -9.930889  -4.126113\n",
       "3       B6  13.022522   9.457973  22.480495\n",
       "4       DL   9.264505   1.644341  10.908845\n",
       "5       EV  19.955390  15.796431  35.751821\n",
       "6       F9  20.215543  21.920705  42.136247\n",
       "7       FL  18.726075  20.115906  38.841980\n",
       "8       HA   4.900585  -6.915205  -2.014620\n",
       "9       MQ  10.552041  10.774733  21.326774\n",
       "10      OO  12.586207  11.931034  24.517241\n",
       "11      UA  12.106073   3.558011  15.664084\n",
       "12      US   3.782418   2.129595   5.912013\n",
       "13      VX  12.869421   1.764464  14.633886\n",
       "14      WN  17.711744   9.649120  27.360864\n",
       "15      YV  18.996330  15.556985  34.553316"
      ]
     },
     "execution_count": 76,
     "metadata": {},
     "output_type": "execute_result"
    }
   ],
   "source": [
    "delay_by_carrier = pd.DataFrame(flights_df.groupby('carrier')['dep_delay','arr_delay'].mean())\n",
    "\n",
    "delay_by_carrier['tot_delay']=delay_by_carrier['dep_delay'] + delay_by_carrier['arr_delay']\n",
    "delay_by_carrier.reset_index(level = 0, inplace = True)\n",
    "delay_by_carrier\n",
    "\n",
    "#delay_by_carrier=delay_by_carrier.sort_values('tot_delay',ascending = False)\n",
    "\n",
    "\n",
    "#delay_by_carrier.sort_values('arr_delay',ascending = False)\n",
    "\n",
    "#matplotlib.style.use('ggplot')"
   ]
  },
  {
   "cell_type": "code",
   "execution_count": 77,
   "metadata": {},
   "outputs": [
    {
     "data": {
      "image/png": "[encoded data removed]",
      "text/plain": [
       "<Figure size 432x288 with 1 Axes>"
      ]
     },
     "metadata": {},
     "output_type": "display_data"
    }
   ],
   "source": [
    "#Plot for Departure delay by Carrier\n",
    "\n",
    "fig, ax = plt.subplots()\n",
    "plt.bar(delay_by_carrier.carrier, dep_delay_by_carrier.dep_delay)\n",
    "plt.xlabel('Carrier')\n",
    "plt.ylabel('Average Departure Delay')\n",
    "plt.title('Average Departure Delay by Carrier')\n",
    "plt.show()"
   ]
  },
  {
   "cell_type": "code",
   "execution_count": 78,
   "metadata": {},
   "outputs": [
    {
     "data": {
      "image/png": "[encoded data removed]",
      "text/plain": [
       "<Figure size 432x288 with 1 Axes>"
      ]
     },
     "metadata": {},
     "output_type": "display_data"
    }
   ],
   "source": [
    "#Plot for Arrival delay by Carrier\n",
    "\n",
    "fig, ax = plt.subplots()\n",
    "plt.bar(delay_by_carrier.carrier, dep_delay_by_carrier.arr_delay)\n",
    "plt.xlabel('Carrier')\n",
    "plt.ylabel('Average Arrival Delay')\n",
    "plt.title('Average Arrival Delay by Carrier')\n",
    "plt.show()"
   ]
  },
  {
   "cell_type": "code",
   "execution_count": 82,
   "metadata": {},
   "outputs": [
    {
     "data": {
      "image/png": "[encoded data removed]",
      "text/plain": [
       "<Figure size 432x288 with 1 Axes>"
      ]
     },
     "metadata": {},
     "output_type": "display_data"
    }
   ],
   "source": [
    "#Plot for Total delay by Carrier\n",
    "#Sort the values by Total delay\n",
    "delay_by_carrier=delay_by_carrier.sort_values('tot_delay',ascending = True)\n",
    "fig, ax = plt.subplots()\n",
    "plt.bar(delay_by_carrier.carrier, delay_by_carrier.tot_delay)\n",
    "plt.xlabel('Carrier')\n",
    "plt.ylabel('Average Total Delay')\n",
    "plt.title('Average Total Delay by Carrier')\n",
    "plt.show()"
   ]
  },
  {
   "cell_type": "markdown",
   "metadata": {},
   "source": [
    "### From the plots, it is clear that Alaska Airlines, Hawaiian and US airlines are the best 3 airlines in terms of delays."
   ]
  },
  {
   "cell_type": "markdown",
   "metadata": {
    "ein.tags": "worksheet-0",
    "slideshow": {
     "slide_type": "-"
    }
   },
   "source": [
    "## Question 6\n",
    "\n",
    "What weather conditions are associated with flight delays leaving NYC?  Use graphics to explore.\n",
    "\n",
    "Note: you need to use 'weather.csv' dataset"
   ]
  },
  {
   "cell_type": "code",
   "execution_count": 84,
   "metadata": {
    "autoscroll": false,
    "ein.tags": "worksheet-0",
    "slideshow": {
     "slide_type": "-"
    }
   },
   "outputs": [],
   "source": [
    "# Read the dataset\n",
    "weather_df= pd.read_csv(r'C:\\Users\\Amit Manghwani\\Desktop\\IMT 574\\Problem sets/weather.csv.bz2')"
   ]
  },
  {
   "cell_type": "code",
   "execution_count": 87,
   "metadata": {},
   "outputs": [
    {
     "name": "stdout",
     "output_type": "stream",
     "text": [
      "(8719, 15)\n",
      "Index(['Unnamed: 0', 'origin', 'year', 'month', 'day', 'hour', 'temp', 'dewp',\n",
      "       'humid', 'wind_dir', 'wind_speed', 'wind_gust', 'precip', 'pressure',\n",
      "       'visib'],\n",
      "      dtype='object')\n",
      "Unnamed: 0      int64\n",
      "origin         object\n",
      "year            int64\n",
      "month         float64\n",
      "day           float64\n",
      "hour          float64\n",
      "temp          float64\n",
      "dewp          float64\n",
      "humid         float64\n",
      "wind_dir      float64\n",
      "wind_speed    float64\n",
      "wind_gust     float64\n",
      "precip        float64\n",
      "pressure      float64\n",
      "visib         float64\n",
      "dtype: object\n"
     ]
    },
    {
     "data": {
      "text/plain": [
       "Unnamed: 0    8719\n",
       "origin        8719\n",
       "year          8719\n",
       "month         8718\n",
       "day           8718\n",
       "hour          8718\n",
       "temp          8718\n",
       "dewp          8718\n",
       "humid         8718\n",
       "wind_dir      8486\n",
       "wind_speed    8718\n",
       "wind_gust     8718\n",
       "precip        8719\n",
       "pressure      7780\n",
       "visib         8719\n",
       "dtype: int64"
      ]
     },
     "execution_count": 87,
     "metadata": {},
     "output_type": "execute_result"
    }
   ],
   "source": [
    "\n",
    "print(weather_df.shape)\n",
    "print(weather_df.columns)\n",
    "print(weather_df.dtypes)\n",
    "weather_df.count()"
   ]
  },
  {
   "cell_type": "code",
   "execution_count": 88,
   "metadata": {},
   "outputs": [],
   "source": [
    "import seaborn as sns; sns.set(style=\"ticks\", color_codes=True)"
   ]
  },
  {
   "cell_type": "code",
   "execution_count": 97,
   "metadata": {},
   "outputs": [
    {
     "name": "stdout",
     "output_type": "stream",
     "text": [
      "  origin  day  month  year   Unnamed: 0     dep_time  dep_delay     arr_time  \\\n",
      "0    EWR    1      1  2013   431.849180  1407.332237  17.483553  1568.815182   \n",
      "1    EWR    2      1  2013  1313.745714  1345.773256  25.322674  1514.172012   \n",
      "2    EWR    3      1  2013  2233.696429  1343.669670   8.450450  1542.600601   \n",
      "3    EWR    4      1  2013  3149.581121  1336.442136  12.103858  1504.557864   \n",
      "4    EWR    5      1  2013  3961.735294  1295.489451   5.696203  1500.594937   \n",
      "\n",
      "   arr_delay       flight  ...       minute     temp       dewp      humid  \\\n",
      "0  20.886667  2276.868852  ...    29.371711  38.4800  25.050435  58.386087   \n",
      "1  25.439883  2389.082857  ...    30.656977  28.8350  11.382500  47.786250   \n",
      "2   6.102719  2350.369048  ...    30.456456  29.4575  14.780000  54.395833   \n",
      "3   1.768546  2388.061947  ...    29.023739  33.4775  19.205000  55.880417   \n",
      "4  -1.367089  2065.399160  ...    31.354430  36.7325  19.242500  49.284583   \n",
      "\n",
      "     wind_dir  wind_speed  wind_gust  precip     pressure  visib  \n",
      "0  263.043478   12.758648  14.682397     0.0  1012.442857   10.0  \n",
      "1  307.916667   12.514732  14.401704     0.0  1017.337500   10.0  \n",
      "2  276.956522    7.863663   9.049346     0.0  1021.058333   10.0  \n",
      "3  242.916667   13.857309  15.946714     0.0  1017.533333   10.0  \n",
      "4  271.666667   10.836512  12.470441     0.0  1021.120833   10.0  \n",
      "\n",
      "[5 rows x 23 columns]\n"
     ]
    }
   ],
   "source": [
    "weather_df.head()\n",
    "weather_df = pd.DataFrame(weather_df.groupby(['year','month','day','origin']).mean()) # Grouping and aggregating data \n",
    "weather_df.reset_index(level = 0, inplace = True) # Getting rid of the grouped indices\n",
    "weather_df.reset_index(level = 0, inplace = True)\n",
    "weather_df.reset_index(level = 0, inplace = True)\n",
    "weather_df.reset_index(level = 0, inplace = True)\n",
    "\n",
    "# We are concerned only about the useful columns\n",
    "weather_df =  pd.DataFrame(weather_df[['origin','year','month','day','temp','dewp','humid','wind_dir',\n",
    "                                       'wind_speed','wind_gust','precip','pressure','visib']]) \n",
    "#weather_df.head()\n",
    "\n",
    "#To merge both the datasets, the lowest grain for both of them should be same to maintain consistency.   \n",
    "flights_df = flights_df.groupby(['year','month','day','origin']).mean()\n",
    "flights_df.reset_index(level = 0, inplace = True)\n",
    "flights_df.reset_index(level = 0, inplace = True)\n",
    "flights_df.reset_index(level = 0, inplace = True)\n",
    "flights_df.reset_index(level = 0, inplace = True)\n",
    "\n",
    "flights_weather = pd.merge(flights_df, weather_df, on=['year','month','day','origin'], how='inner')\n",
    "flights_weather['precip'] = flights_weather['precip'] * 1000000;\n",
    "print(flights_weather.head())\n",
    "\n",
    "\n"
   ]
  },
  {
   "cell_type": "code",
   "execution_count": 143,
   "metadata": {},
   "outputs": [
    {
     "data": {
      "text/plain": [
       "Text(0.5,1,'Pressure vs Departure Delay')"
      ]
     },
     "execution_count": 143,
     "metadata": {},
     "output_type": "execute_result"
    },
    {
     "data": {
      "image/png": "[encoded data removed]",
      "text/plain": [
       "<Figure size 1440x1440 with 5 Axes>"
      ]
     },
     "metadata": {},
     "output_type": "display_data"
    }
   ],
   "source": [
    "#Some exploratory analysis\n",
    "\n",
    "matplotlib.style.use('ggplot')\n",
    "\n",
    "rcParams['figure.figsize'] = 20, 20\n",
    "fig = plt.figure()\n",
    "ax1 = fig.add_subplot(331)\n",
    "ax1.scatter(flights_weather['temp'], flights_weather['dep_delay'], c= 'red')\n",
    "xlabel('Avg Temp in F')\n",
    "ylabel('Avg departure delay in mins')\n",
    "title('Temp vs Departure Delay')\n",
    "\n",
    "ax2 = fig.add_subplot(332)\n",
    "ax2.scatter(flights_weather['visib'], flights_weather['dep_delay'], c='green')\n",
    "xlabel('Average Visibility in miles')\n",
    "ylabel('Average departure delay in mins')\n",
    "title('Visibility vs Departure Delay')\n",
    "\n",
    "ax3 = fig.add_subplot(333)\n",
    "ax3.scatter(flights_weather['precip'], flights_weather['dep_delay'], c= '#4d4dff')\n",
    "xlabel('Average Precipitation in inches')\n",
    "ylabel('Average departure delay in mins')\n",
    "title('Precipitation vs Departure Delay')\n",
    "\n",
    "ax4 = fig.add_subplot(334)\n",
    "ax4.scatter(flights_weather['humid'], flights_weather['dep_delay'], c = 'pink')\n",
    "xlabel('Humidity')\n",
    "ylabel('Average departure delay in mins')\n",
    "title('Humidity vs Departure Delay')\n",
    "\n",
    "ax5 = fig.add_subplot(335)\n",
    "ax5.scatter(flights_weather['pressure'], flights_weather['dep_delay'], c = 'darkblue')\n",
    "xlabel('Pressure')\n",
    "ylabel('Average departure delay in mins')\n",
    "title('Pressure vs Departure Delay')"
   ]
  },
  {
   "cell_type": "markdown",
   "metadata": {},
   "source": [
    "### From the plots, it seems that temperature and humidity has some relation with the departure delays. As temperature and humidity increase, the delay increase. If we calculate the interaction of these parameters or do a multivariate regression, then we might be able to have a concrete conclusion.  "
   ]
  }
 ],
 "metadata": {
  "kernelspec": {
   "display_name": "Python 3",
   "language": "python",
   "name": "python3"
  },
  "language_info": {
   "codemirror_mode": {
    "name": "ipython",
    "version": 3
   },
   "file_extension": ".py",
   "mimetype": "text/x-python",
   "name": "python",
   "nbconvert_exporter": "python",
   "pygments_lexer": "ipython3",
   "version": "3.7.0"
  },
  "name": "ps01-pandas.ipynb"
 },
 "nbformat": 4,
 "nbformat_minor": 2
}
